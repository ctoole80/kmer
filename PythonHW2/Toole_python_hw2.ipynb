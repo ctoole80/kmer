{
 "cells": [
  {
   "cell_type": "code",
   "execution_count": 73,
   "metadata": {
    "collapsed": true
   },
   "outputs": [],
   "source": [
    "import pandas as pd\n",
    "import numpy as np\n",
    "%matplotlib inline"
   ]
  },
  {
   "cell_type": "code",
   "execution_count": 74,
   "metadata": {
    "collapsed": true
   },
   "outputs": [],
   "source": [
    "#Load data\n",
    "cover = pd.read_csv('mapped_plant_quads_co_allrecords_cover.csv', keep_default_na=False, na_values=[\"\"])\n",
    "density = pd.read_csv('mapped_plant_quads_co_allrecords_density.csv', keep_default_na=False, na_values=[\"\"])\n",
    "climate = pd.read_csv('mapped_plant_quads_co_daily_climate.csv', keep_default_na=False, na_values=[\"\"])\n",
    "info = pd.read_csv('mapped_plant_quads_co_quad_info.csv', keep_default_na=False, na_values=[\"\"])\n",
    "inventory = pd.read_csv('mapped_plant_quads_co_quad_inventory.csv', keep_default_na=False, na_values=[\"\"])\n",
    "SRate = pd.read_csv('mapped_plant_quads_co_quad_stocking_rate.csv', keep_default_na=False, na_values=[\"\"])\n",
    "sp = pd.read_csv('mapped_plant_quads_co_species_list.csv', keep_default_na=False, na_values=[\"\"])\n",
    "snc = pd.read_csv('mapped_plant_quads_co_species_name_changes.csv', keep_default_na=False, na_values=[\"\"])\n"
   ]
  },
  {
   "cell_type": "markdown",
   "metadata": {},
   "source": [
    "Check data format of each:"
   ]
  },
  {
   "cell_type": "code",
   "execution_count": 75,
   "metadata": {
    "collapsed": false
   },
   "outputs": [
    {
     "data": {
      "text/html": [
       "<div>\n",
       "<table border=\"1\" class=\"dataframe\">\n",
       "  <thead>\n",
       "    <tr style=\"text-align: right;\">\n",
       "      <th></th>\n",
       "      <th>quad</th>\n",
       "      <th>year</th>\n",
       "      <th>species</th>\n",
       "      <th>area</th>\n",
       "      <th>x</th>\n",
       "      <th>y</th>\n",
       "    </tr>\n",
       "  </thead>\n",
       "  <tbody>\n",
       "    <tr>\n",
       "      <th>0</th>\n",
       "      <td>gzgz_11</td>\n",
       "      <td>1997</td>\n",
       "      <td>Corner plate</td>\n",
       "      <td>0.001863</td>\n",
       "      <td>0.021345</td>\n",
       "      <td>0.977800</td>\n",
       "    </tr>\n",
       "    <tr>\n",
       "      <th>1</th>\n",
       "      <td>gzgz_11</td>\n",
       "      <td>1997</td>\n",
       "      <td>Bare ground</td>\n",
       "      <td>0.013359</td>\n",
       "      <td>0.086730</td>\n",
       "      <td>0.946482</td>\n",
       "    </tr>\n",
       "    <tr>\n",
       "      <th>2</th>\n",
       "      <td>gzgz_11</td>\n",
       "      <td>1997</td>\n",
       "      <td>Bouteloua gracilis</td>\n",
       "      <td>0.000169</td>\n",
       "      <td>0.167067</td>\n",
       "      <td>0.996623</td>\n",
       "    </tr>\n",
       "    <tr>\n",
       "      <th>3</th>\n",
       "      <td>gzgz_11</td>\n",
       "      <td>1997</td>\n",
       "      <td>Bouteloua gracilis</td>\n",
       "      <td>0.014171</td>\n",
       "      <td>0.343203</td>\n",
       "      <td>0.963770</td>\n",
       "    </tr>\n",
       "    <tr>\n",
       "      <th>4</th>\n",
       "      <td>gzgz_11</td>\n",
       "      <td>1997</td>\n",
       "      <td>Bare ground</td>\n",
       "      <td>0.001982</td>\n",
       "      <td>0.377101</td>\n",
       "      <td>0.987494</td>\n",
       "    </tr>\n",
       "  </tbody>\n",
       "</table>\n",
       "</div>"
      ],
      "text/plain": [
       "      quad  year             species      area         x         y\n",
       "0  gzgz_11  1997        Corner plate  0.001863  0.021345  0.977800\n",
       "1  gzgz_11  1997         Bare ground  0.013359  0.086730  0.946482\n",
       "2  gzgz_11  1997  Bouteloua gracilis  0.000169  0.167067  0.996623\n",
       "3  gzgz_11  1997  Bouteloua gracilis  0.014171  0.343203  0.963770\n",
       "4  gzgz_11  1997         Bare ground  0.001982  0.377101  0.987494"
      ]
     },
     "execution_count": 75,
     "metadata": {},
     "output_type": "execute_result"
    }
   ],
   "source": [
    "cover.head()"
   ]
  },
  {
   "cell_type": "code",
   "execution_count": 76,
   "metadata": {
    "collapsed": false
   },
   "outputs": [
    {
     "data": {
      "text/html": [
       "<div>\n",
       "<table border=\"1\" class=\"dataframe\">\n",
       "  <thead>\n",
       "    <tr style=\"text-align: right;\">\n",
       "      <th></th>\n",
       "      <th>quad</th>\n",
       "      <th>year</th>\n",
       "      <th>species</th>\n",
       "      <th>x</th>\n",
       "      <th>y</th>\n",
       "    </tr>\n",
       "  </thead>\n",
       "  <tbody>\n",
       "    <tr>\n",
       "      <th>0</th>\n",
       "      <td>gzgz_11</td>\n",
       "      <td>1997</td>\n",
       "      <td>Agropyron smithii</td>\n",
       "      <td>0.335793</td>\n",
       "      <td>0.041727</td>\n",
       "    </tr>\n",
       "    <tr>\n",
       "      <th>1</th>\n",
       "      <td>gzgz_11</td>\n",
       "      <td>1997</td>\n",
       "      <td>Agropyron smithii</td>\n",
       "      <td>0.707497</td>\n",
       "      <td>0.064662</td>\n",
       "    </tr>\n",
       "    <tr>\n",
       "      <th>2</th>\n",
       "      <td>gzgz_11</td>\n",
       "      <td>1997</td>\n",
       "      <td>Artemisia frigida</td>\n",
       "      <td>0.664633</td>\n",
       "      <td>0.295848</td>\n",
       "    </tr>\n",
       "    <tr>\n",
       "      <th>3</th>\n",
       "      <td>gzgz_11</td>\n",
       "      <td>1997</td>\n",
       "      <td>Unknown</td>\n",
       "      <td>0.909360</td>\n",
       "      <td>0.309185</td>\n",
       "    </tr>\n",
       "    <tr>\n",
       "      <th>4</th>\n",
       "      <td>gzgz_11</td>\n",
       "      <td>1997</td>\n",
       "      <td>Plantago patagonica</td>\n",
       "      <td>0.829952</td>\n",
       "      <td>0.320852</td>\n",
       "    </tr>\n",
       "  </tbody>\n",
       "</table>\n",
       "</div>"
      ],
      "text/plain": [
       "      quad  year              species         x         y\n",
       "0  gzgz_11  1997    Agropyron smithii  0.335793  0.041727\n",
       "1  gzgz_11  1997    Agropyron smithii  0.707497  0.064662\n",
       "2  gzgz_11  1997    Artemisia frigida  0.664633  0.295848\n",
       "3  gzgz_11  1997              Unknown  0.909360  0.309185\n",
       "4  gzgz_11  1997  Plantago patagonica  0.829952  0.320852"
      ]
     },
     "execution_count": 76,
     "metadata": {},
     "output_type": "execute_result"
    }
   ],
   "source": [
    "density.head()"
   ]
  },
  {
   "cell_type": "code",
   "execution_count": 77,
   "metadata": {
    "collapsed": false
   },
   "outputs": [
    {
     "data": {
      "text/html": [
       "<div>\n",
       "<table border=\"1\" class=\"dataframe\">\n",
       "  <thead>\n",
       "    <tr style=\"text-align: right;\">\n",
       "      <th></th>\n",
       "      <th>year</th>\n",
       "      <th>month</th>\n",
       "      <th>day</th>\n",
       "      <th>meant</th>\n",
       "      <th>flag_meant</th>\n",
       "      <th>maxt</th>\n",
       "      <th>flag_maxt</th>\n",
       "      <th>mint</th>\n",
       "      <th>flag_mint</th>\n",
       "      <th>precip</th>\n",
       "      <th>flag_precip</th>\n",
       "    </tr>\n",
       "  </thead>\n",
       "  <tbody>\n",
       "    <tr>\n",
       "      <th>0</th>\n",
       "      <td>1997</td>\n",
       "      <td>1</td>\n",
       "      <td>1</td>\n",
       "      <td>8.33</td>\n",
       "      <td>g</td>\n",
       "      <td>16.11</td>\n",
       "      <td>g</td>\n",
       "      <td>0.56</td>\n",
       "      <td>g</td>\n",
       "      <td>0.000</td>\n",
       "      <td>g</td>\n",
       "    </tr>\n",
       "    <tr>\n",
       "      <th>1</th>\n",
       "      <td>1997</td>\n",
       "      <td>1</td>\n",
       "      <td>2</td>\n",
       "      <td>8.89</td>\n",
       "      <td>g</td>\n",
       "      <td>14.44</td>\n",
       "      <td>g</td>\n",
       "      <td>3.33</td>\n",
       "      <td>g</td>\n",
       "      <td>0.000</td>\n",
       "      <td>g</td>\n",
       "    </tr>\n",
       "    <tr>\n",
       "      <th>2</th>\n",
       "      <td>1997</td>\n",
       "      <td>1</td>\n",
       "      <td>3</td>\n",
       "      <td>10.56</td>\n",
       "      <td>g</td>\n",
       "      <td>21.67</td>\n",
       "      <td>g</td>\n",
       "      <td>-0.56</td>\n",
       "      <td>g</td>\n",
       "      <td>0.254</td>\n",
       "      <td>g</td>\n",
       "    </tr>\n",
       "    <tr>\n",
       "      <th>3</th>\n",
       "      <td>1997</td>\n",
       "      <td>1</td>\n",
       "      <td>4</td>\n",
       "      <td>3.61</td>\n",
       "      <td>g</td>\n",
       "      <td>8.89</td>\n",
       "      <td>g</td>\n",
       "      <td>-1.67</td>\n",
       "      <td>g</td>\n",
       "      <td>0.000</td>\n",
       "      <td>g</td>\n",
       "    </tr>\n",
       "    <tr>\n",
       "      <th>4</th>\n",
       "      <td>1997</td>\n",
       "      <td>1</td>\n",
       "      <td>5</td>\n",
       "      <td>-4.44</td>\n",
       "      <td>g</td>\n",
       "      <td>3.89</td>\n",
       "      <td>g</td>\n",
       "      <td>-12.78</td>\n",
       "      <td>g</td>\n",
       "      <td>0.000</td>\n",
       "      <td>g</td>\n",
       "    </tr>\n",
       "  </tbody>\n",
       "</table>\n",
       "</div>"
      ],
      "text/plain": [
       "   year  month  day  meant flag_meant   maxt flag_maxt   mint flag_mint  \\\n",
       "0  1997      1    1   8.33          g  16.11         g   0.56         g   \n",
       "1  1997      1    2   8.89          g  14.44         g   3.33         g   \n",
       "2  1997      1    3  10.56          g  21.67         g  -0.56         g   \n",
       "3  1997      1    4   3.61          g   8.89         g  -1.67         g   \n",
       "4  1997      1    5  -4.44          g   3.89         g -12.78         g   \n",
       "\n",
       "   precip flag_precip  \n",
       "0   0.000           g  \n",
       "1   0.000           g  \n",
       "2   0.254           g  \n",
       "3   0.000           g  \n",
       "4   0.000           g  "
      ]
     },
     "execution_count": 77,
     "metadata": {},
     "output_type": "execute_result"
    }
   ],
   "source": [
    "climate.head()"
   ]
  },
  {
   "cell_type": "code",
   "execution_count": 78,
   "metadata": {
    "collapsed": false
   },
   "outputs": [
    {
     "data": {
      "text/html": [
       "<div>\n",
       "<table border=\"1\" class=\"dataframe\">\n",
       "  <thead>\n",
       "    <tr style=\"text-align: right;\">\n",
       "      <th></th>\n",
       "      <th>quadrat</th>\n",
       "      <th>pasture</th>\n",
       "      <th>latitude</th>\n",
       "      <th>longitude</th>\n",
       "      <th>elevation</th>\n",
       "      <th>before1997</th>\n",
       "      <th>from1997</th>\n",
       "    </tr>\n",
       "  </thead>\n",
       "  <tbody>\n",
       "    <tr>\n",
       "      <th>0</th>\n",
       "      <td>gzgz_11</td>\n",
       "      <td>11</td>\n",
       "      <td>40.842943</td>\n",
       "      <td>-104.744032</td>\n",
       "      <td>1656</td>\n",
       "      <td>grazed</td>\n",
       "      <td>grazed</td>\n",
       "    </tr>\n",
       "    <tr>\n",
       "      <th>1</th>\n",
       "      <td>gzgz_19</td>\n",
       "      <td>19</td>\n",
       "      <td>40.823798</td>\n",
       "      <td>-104.710306</td>\n",
       "      <td>1633</td>\n",
       "      <td>grazed</td>\n",
       "      <td>grazed</td>\n",
       "    </tr>\n",
       "    <tr>\n",
       "      <th>2</th>\n",
       "      <td>gzgz_24</td>\n",
       "      <td>24</td>\n",
       "      <td>40.822824</td>\n",
       "      <td>-104.729504</td>\n",
       "      <td>1650</td>\n",
       "      <td>grazed</td>\n",
       "      <td>grazed</td>\n",
       "    </tr>\n",
       "    <tr>\n",
       "      <th>3</th>\n",
       "      <td>gzgz_5a</td>\n",
       "      <td>5a</td>\n",
       "      <td>40.868138</td>\n",
       "      <td>-104.690792</td>\n",
       "      <td>1657</td>\n",
       "      <td>grazed</td>\n",
       "      <td>grazed</td>\n",
       "    </tr>\n",
       "    <tr>\n",
       "      <th>4</th>\n",
       "      <td>gzgz_5b</td>\n",
       "      <td>5b</td>\n",
       "      <td>40.867662</td>\n",
       "      <td>-104.680630</td>\n",
       "      <td>1661</td>\n",
       "      <td>grazed</td>\n",
       "      <td>grazed</td>\n",
       "    </tr>\n",
       "  </tbody>\n",
       "</table>\n",
       "</div>"
      ],
      "text/plain": [
       "   quadrat pasture   latitude   longitude  elevation before1997 from1997\n",
       "0  gzgz_11      11  40.842943 -104.744032       1656     grazed   grazed\n",
       "1  gzgz_19      19  40.823798 -104.710306       1633     grazed   grazed\n",
       "2  gzgz_24      24  40.822824 -104.729504       1650     grazed   grazed\n",
       "3  gzgz_5a      5a  40.868138 -104.690792       1657     grazed   grazed\n",
       "4  gzgz_5b      5b  40.867662 -104.680630       1661     grazed   grazed"
      ]
     },
     "execution_count": 78,
     "metadata": {},
     "output_type": "execute_result"
    }
   ],
   "source": [
    "info.head()"
   ]
  },
  {
   "cell_type": "code",
   "execution_count": 79,
   "metadata": {
    "collapsed": false
   },
   "outputs": [
    {
     "data": {
      "text/html": [
       "<div>\n",
       "<table border=\"1\" class=\"dataframe\">\n",
       "  <thead>\n",
       "    <tr style=\"text-align: right;\">\n",
       "      <th></th>\n",
       "      <th>gzgz_11</th>\n",
       "      <th>gzgz_19</th>\n",
       "      <th>gzgz_24</th>\n",
       "      <th>gzgz_5a</th>\n",
       "      <th>gzgz_5b</th>\n",
       "      <th>gzgz_7</th>\n",
       "      <th>gzun_11</th>\n",
       "      <th>gzun_19</th>\n",
       "      <th>gzun_24</th>\n",
       "      <th>gzun_5a</th>\n",
       "      <th>...</th>\n",
       "      <th>ungz_24</th>\n",
       "      <th>ungz_5a</th>\n",
       "      <th>ungz_5b</th>\n",
       "      <th>ungz_7</th>\n",
       "      <th>unun_11</th>\n",
       "      <th>unun_19</th>\n",
       "      <th>unun_24</th>\n",
       "      <th>unun_5a</th>\n",
       "      <th>unun_5b</th>\n",
       "      <th>unun_7</th>\n",
       "    </tr>\n",
       "  </thead>\n",
       "  <tbody>\n",
       "    <tr>\n",
       "      <th>0</th>\n",
       "      <td>1997</td>\n",
       "      <td>1997</td>\n",
       "      <td>1997</td>\n",
       "      <td>1997.0</td>\n",
       "      <td>1997.0</td>\n",
       "      <td>1997.0</td>\n",
       "      <td>1997</td>\n",
       "      <td>1997</td>\n",
       "      <td>1997.0</td>\n",
       "      <td>1997.0</td>\n",
       "      <td>...</td>\n",
       "      <td>1997.0</td>\n",
       "      <td>1997.0</td>\n",
       "      <td>1997</td>\n",
       "      <td>1997</td>\n",
       "      <td>1997.0</td>\n",
       "      <td>1997</td>\n",
       "      <td>1997.0</td>\n",
       "      <td>1997</td>\n",
       "      <td>1997.0</td>\n",
       "      <td>1997.0</td>\n",
       "    </tr>\n",
       "    <tr>\n",
       "      <th>1</th>\n",
       "      <td>1998</td>\n",
       "      <td>1998</td>\n",
       "      <td>1998</td>\n",
       "      <td>1998.0</td>\n",
       "      <td>1998.0</td>\n",
       "      <td>1998.0</td>\n",
       "      <td>1998</td>\n",
       "      <td>1998</td>\n",
       "      <td>1998.0</td>\n",
       "      <td>1998.0</td>\n",
       "      <td>...</td>\n",
       "      <td>1998.0</td>\n",
       "      <td>1998.0</td>\n",
       "      <td>1998</td>\n",
       "      <td>1998</td>\n",
       "      <td>1998.0</td>\n",
       "      <td>1998</td>\n",
       "      <td>1998.0</td>\n",
       "      <td>1998</td>\n",
       "      <td>1998.0</td>\n",
       "      <td>1998.0</td>\n",
       "    </tr>\n",
       "    <tr>\n",
       "      <th>2</th>\n",
       "      <td>1999</td>\n",
       "      <td>1999</td>\n",
       "      <td>1999</td>\n",
       "      <td>1999.0</td>\n",
       "      <td>1999.0</td>\n",
       "      <td>1999.0</td>\n",
       "      <td>1999</td>\n",
       "      <td>1999</td>\n",
       "      <td>1999.0</td>\n",
       "      <td>1999.0</td>\n",
       "      <td>...</td>\n",
       "      <td>1999.0</td>\n",
       "      <td>1999.0</td>\n",
       "      <td>1999</td>\n",
       "      <td>1999</td>\n",
       "      <td>1999.0</td>\n",
       "      <td>1999</td>\n",
       "      <td>1999.0</td>\n",
       "      <td>1999</td>\n",
       "      <td>1999.0</td>\n",
       "      <td>1999.0</td>\n",
       "    </tr>\n",
       "    <tr>\n",
       "      <th>3</th>\n",
       "      <td>2000</td>\n",
       "      <td>2000</td>\n",
       "      <td>2000</td>\n",
       "      <td>NaN</td>\n",
       "      <td>NaN</td>\n",
       "      <td>NaN</td>\n",
       "      <td>2000</td>\n",
       "      <td>2000</td>\n",
       "      <td>NaN</td>\n",
       "      <td>NaN</td>\n",
       "      <td>...</td>\n",
       "      <td>NaN</td>\n",
       "      <td>NaN</td>\n",
       "      <td>2000</td>\n",
       "      <td>2000</td>\n",
       "      <td>NaN</td>\n",
       "      <td>2000</td>\n",
       "      <td>NaN</td>\n",
       "      <td>2000</td>\n",
       "      <td>NaN</td>\n",
       "      <td>NaN</td>\n",
       "    </tr>\n",
       "    <tr>\n",
       "      <th>4</th>\n",
       "      <td>2001</td>\n",
       "      <td>2001</td>\n",
       "      <td>2001</td>\n",
       "      <td>2001.0</td>\n",
       "      <td>2001.0</td>\n",
       "      <td>2001.0</td>\n",
       "      <td>2001</td>\n",
       "      <td>2001</td>\n",
       "      <td>2001.0</td>\n",
       "      <td>2001.0</td>\n",
       "      <td>...</td>\n",
       "      <td>2001.0</td>\n",
       "      <td>2001.0</td>\n",
       "      <td>2001</td>\n",
       "      <td>2001</td>\n",
       "      <td>2001.0</td>\n",
       "      <td>2001</td>\n",
       "      <td>2001.0</td>\n",
       "      <td>2001</td>\n",
       "      <td>2001.0</td>\n",
       "      <td>2001.0</td>\n",
       "    </tr>\n",
       "  </tbody>\n",
       "</table>\n",
       "<p>5 rows × 24 columns</p>\n",
       "</div>"
      ],
      "text/plain": [
       "   gzgz_11  gzgz_19  gzgz_24  gzgz_5a  gzgz_5b  gzgz_7  gzun_11  gzun_19  \\\n",
       "0     1997     1997     1997   1997.0   1997.0  1997.0     1997     1997   \n",
       "1     1998     1998     1998   1998.0   1998.0  1998.0     1998     1998   \n",
       "2     1999     1999     1999   1999.0   1999.0  1999.0     1999     1999   \n",
       "3     2000     2000     2000      NaN      NaN     NaN     2000     2000   \n",
       "4     2001     2001     2001   2001.0   2001.0  2001.0     2001     2001   \n",
       "\n",
       "   gzun_24  gzun_5a   ...    ungz_24  ungz_5a  ungz_5b  ungz_7  unun_11  \\\n",
       "0   1997.0   1997.0   ...     1997.0   1997.0     1997    1997   1997.0   \n",
       "1   1998.0   1998.0   ...     1998.0   1998.0     1998    1998   1998.0   \n",
       "2   1999.0   1999.0   ...     1999.0   1999.0     1999    1999   1999.0   \n",
       "3      NaN      NaN   ...        NaN      NaN     2000    2000      NaN   \n",
       "4   2001.0   2001.0   ...     2001.0   2001.0     2001    2001   2001.0   \n",
       "\n",
       "   unun_19  unun_24  unun_5a  unun_5b  unun_7  \n",
       "0     1997   1997.0     1997   1997.0  1997.0  \n",
       "1     1998   1998.0     1998   1998.0  1998.0  \n",
       "2     1999   1999.0     1999   1999.0  1999.0  \n",
       "3     2000      NaN     2000      NaN     NaN  \n",
       "4     2001   2001.0     2001   2001.0  2001.0  \n",
       "\n",
       "[5 rows x 24 columns]"
      ]
     },
     "execution_count": 79,
     "metadata": {},
     "output_type": "execute_result"
    }
   ],
   "source": [
    "inventory.head()"
   ]
  },
  {
   "cell_type": "code",
   "execution_count": 80,
   "metadata": {
    "collapsed": false
   },
   "outputs": [
    {
     "data": {
      "text/html": [
       "<div>\n",
       "<table border=\"1\" class=\"dataframe\">\n",
       "  <thead>\n",
       "    <tr style=\"text-align: right;\">\n",
       "      <th></th>\n",
       "      <th>year</th>\n",
       "      <th>pasture</th>\n",
       "      <th>num_hd</th>\n",
       "      <th>date_in</th>\n",
       "      <th>date_out</th>\n",
       "      <th>asg</th>\n",
       "      <th>notes</th>\n",
       "    </tr>\n",
       "  </thead>\n",
       "  <tbody>\n",
       "    <tr>\n",
       "      <th>0</th>\n",
       "      <td>1997.0</td>\n",
       "      <td>5b</td>\n",
       "      <td>26</td>\n",
       "      <td>8-May</td>\n",
       "      <td>23-Oct</td>\n",
       "      <td>296.5</td>\n",
       "      <td>yearling breeders</td>\n",
       "    </tr>\n",
       "    <tr>\n",
       "      <th>1</th>\n",
       "      <td>1997.0</td>\n",
       "      <td>5a</td>\n",
       "      <td>20</td>\n",
       "      <td>14-May</td>\n",
       "      <td>8-Oct</td>\n",
       "      <td>404.8</td>\n",
       "      <td>steers</td>\n",
       "    </tr>\n",
       "    <tr>\n",
       "      <th>2</th>\n",
       "      <td>1997.0</td>\n",
       "      <td>7</td>\n",
       "      <td>22</td>\n",
       "      <td>1-May</td>\n",
       "      <td>23-Oct</td>\n",
       "      <td>274.0</td>\n",
       "      <td>two year old breeders</td>\n",
       "    </tr>\n",
       "    <tr>\n",
       "      <th>3</th>\n",
       "      <td>1997.0</td>\n",
       "      <td>11</td>\n",
       "      <td>13</td>\n",
       "      <td>14-May</td>\n",
       "      <td>9-Oct</td>\n",
       "      <td>343.6</td>\n",
       "      <td>steers</td>\n",
       "    </tr>\n",
       "    <tr>\n",
       "      <th>4</th>\n",
       "      <td>1997.0</td>\n",
       "      <td>19</td>\n",
       "      <td>70</td>\n",
       "      <td>12-May</td>\n",
       "      <td>8-Oct</td>\n",
       "      <td>347.5</td>\n",
       "      <td>steers rotated in 7-160 acre pastures</td>\n",
       "    </tr>\n",
       "  </tbody>\n",
       "</table>\n",
       "</div>"
      ],
      "text/plain": [
       "     year pasture num_hd date_in date_out    asg  \\\n",
       "0  1997.0      5b     26   8-May   23-Oct  296.5   \n",
       "1  1997.0      5a     20  14-May    8-Oct  404.8   \n",
       "2  1997.0       7     22   1-May   23-Oct  274.0   \n",
       "3  1997.0      11     13  14-May    9-Oct  343.6   \n",
       "4  1997.0      19     70  12-May    8-Oct  347.5   \n",
       "\n",
       "                                   notes  \n",
       "0                      yearling breeders  \n",
       "1                                 steers  \n",
       "2                  two year old breeders  \n",
       "3                                 steers  \n",
       "4  steers rotated in 7-160 acre pastures  "
      ]
     },
     "execution_count": 80,
     "metadata": {},
     "output_type": "execute_result"
    }
   ],
   "source": [
    "SRate.head()"
   ]
  },
  {
   "cell_type": "code",
   "execution_count": 81,
   "metadata": {
    "collapsed": false
   },
   "outputs": [
    {
     "data": {
      "text/html": [
       "<div>\n",
       "<table border=\"1\" class=\"dataframe\">\n",
       "  <thead>\n",
       "    <tr style=\"text-align: right;\">\n",
       "      <th></th>\n",
       "      <th>species</th>\n",
       "      <th>density</th>\n",
       "      <th>cover</th>\n",
       "      <th>growthform</th>\n",
       "      <th>longevity</th>\n",
       "    </tr>\n",
       "  </thead>\n",
       "  <tbody>\n",
       "    <tr>\n",
       "      <th>0</th>\n",
       "      <td>Achillea millefolium</td>\n",
       "      <td>2.0</td>\n",
       "      <td>NaN</td>\n",
       "      <td>forb</td>\n",
       "      <td>P</td>\n",
       "    </tr>\n",
       "    <tr>\n",
       "      <th>1</th>\n",
       "      <td>Agropyron smithii</td>\n",
       "      <td>4649.0</td>\n",
       "      <td>NaN</td>\n",
       "      <td>grass</td>\n",
       "      <td>P</td>\n",
       "    </tr>\n",
       "    <tr>\n",
       "      <th>2</th>\n",
       "      <td>Allium spp.</td>\n",
       "      <td>18.0</td>\n",
       "      <td>NaN</td>\n",
       "      <td>forb</td>\n",
       "      <td>P</td>\n",
       "    </tr>\n",
       "    <tr>\n",
       "      <th>3</th>\n",
       "      <td>Allium textile</td>\n",
       "      <td>73.0</td>\n",
       "      <td>NaN</td>\n",
       "      <td>forb</td>\n",
       "      <td>P</td>\n",
       "    </tr>\n",
       "    <tr>\n",
       "      <th>4</th>\n",
       "      <td>Ambrosia psilostachya</td>\n",
       "      <td>2.0</td>\n",
       "      <td>NaN</td>\n",
       "      <td>forb</td>\n",
       "      <td>P</td>\n",
       "    </tr>\n",
       "  </tbody>\n",
       "</table>\n",
       "</div>"
      ],
      "text/plain": [
       "                 species  density  cover growthform longevity\n",
       "0   Achillea millefolium      2.0    NaN       forb         P\n",
       "1      Agropyron smithii   4649.0    NaN      grass         P\n",
       "2            Allium spp.     18.0    NaN       forb         P\n",
       "3         Allium textile     73.0    NaN       forb         P\n",
       "4  Ambrosia psilostachya      2.0    NaN       forb         P"
      ]
     },
     "execution_count": 81,
     "metadata": {},
     "output_type": "execute_result"
    }
   ],
   "source": [
    "sp.head()"
   ]
  },
  {
   "cell_type": "code",
   "execution_count": 82,
   "metadata": {
    "collapsed": false
   },
   "outputs": [
    {
     "data": {
      "text/html": [
       "<div>\n",
       "<table border=\"1\" class=\"dataframe\">\n",
       "  <thead>\n",
       "    <tr style=\"text-align: right;\">\n",
       "      <th></th>\n",
       "      <th>old_name</th>\n",
       "      <th>new_name</th>\n",
       "    </tr>\n",
       "  </thead>\n",
       "  <tbody>\n",
       "    <tr>\n",
       "      <th>0</th>\n",
       "      <td>Ant mound</td>\n",
       "      <td>Ant hill</td>\n",
       "    </tr>\n",
       "    <tr>\n",
       "      <th>1</th>\n",
       "      <td>Artemisia frigidae</td>\n",
       "      <td>Artemisia frigida</td>\n",
       "    </tr>\n",
       "    <tr>\n",
       "      <th>2</th>\n",
       "      <td>Astragulus missouriensis</td>\n",
       "      <td>Astragalus missouriensis</td>\n",
       "    </tr>\n",
       "    <tr>\n",
       "      <th>3</th>\n",
       "      <td>BOGR/BUDA mix</td>\n",
       "      <td>BOGR/BUDA</td>\n",
       "    </tr>\n",
       "    <tr>\n",
       "      <th>4</th>\n",
       "      <td>Bouteloua gracilils</td>\n",
       "      <td>Bouteloua gracilis</td>\n",
       "    </tr>\n",
       "  </tbody>\n",
       "</table>\n",
       "</div>"
      ],
      "text/plain": [
       "                   old_name                  new_name\n",
       "0                 Ant mound                  Ant hill\n",
       "1        Artemisia frigidae         Artemisia frigida\n",
       "2  Astragulus missouriensis  Astragalus missouriensis\n",
       "3             BOGR/BUDA mix                 BOGR/BUDA\n",
       "4       Bouteloua gracilils        Bouteloua gracilis"
      ]
     },
     "execution_count": 82,
     "metadata": {},
     "output_type": "execute_result"
    }
   ],
   "source": [
    "snc.head()"
   ]
  },
  {
   "cell_type": "markdown",
   "metadata": {},
   "source": [
    "A plot of the area covered by each species over all quadrats (y) for each year (x). Area, species, quadrant and year are needed. All are present in variable \"cover\"."
   ]
  },
  {
   "cell_type": "code",
   "execution_count": 83,
   "metadata": {
    "collapsed": false
   },
   "outputs": [
    {
     "data": {
      "text/html": [
       "<div>\n",
       "<table border=\"1\" class=\"dataframe\">\n",
       "  <thead>\n",
       "    <tr style=\"text-align: right;\">\n",
       "      <th></th>\n",
       "      <th>species</th>\n",
       "      <th>year</th>\n",
       "      <th>area</th>\n",
       "    </tr>\n",
       "  </thead>\n",
       "  <tbody>\n",
       "    <tr>\n",
       "      <th>0</th>\n",
       "      <td>Ant hill</td>\n",
       "      <td>1998</td>\n",
       "      <td>0.011008</td>\n",
       "    </tr>\n",
       "    <tr>\n",
       "      <th>1</th>\n",
       "      <td>Ant hill</td>\n",
       "      <td>1999</td>\n",
       "      <td>0.014806</td>\n",
       "    </tr>\n",
       "    <tr>\n",
       "      <th>2</th>\n",
       "      <td>Ant hill</td>\n",
       "      <td>2000</td>\n",
       "      <td>0.006458</td>\n",
       "    </tr>\n",
       "    <tr>\n",
       "      <th>3</th>\n",
       "      <td>Ant hill</td>\n",
       "      <td>2001</td>\n",
       "      <td>0.013366</td>\n",
       "    </tr>\n",
       "    <tr>\n",
       "      <th>4</th>\n",
       "      <td>Ant hill</td>\n",
       "      <td>2002</td>\n",
       "      <td>0.003034</td>\n",
       "    </tr>\n",
       "  </tbody>\n",
       "</table>\n",
       "</div>"
      ],
      "text/plain": [
       "    species  year      area\n",
       "0  Ant hill  1998  0.011008\n",
       "1  Ant hill  1999  0.014806\n",
       "2  Ant hill  2000  0.006458\n",
       "3  Ant hill  2001  0.013366\n",
       "4  Ant hill  2002  0.003034"
      ]
     },
     "execution_count": 83,
     "metadata": {},
     "output_type": "execute_result"
    }
   ],
   "source": [
    "#group by species and year then total area\n",
    "area_sp_yr=cover.groupby(['species','year'], as_index=False).area.sum() \n",
    "area_sp_yr.head() #check result"
   ]
  },
  {
   "cell_type": "code",
   "execution_count": 84,
   "metadata": {
    "collapsed": false
   },
   "outputs": [
    {
     "data": {
      "text/plain": [
       "<matplotlib.text.Text at 0x24b10ee72b0>"
      ]
     },
     "execution_count": 84,
     "metadata": {},
     "output_type": "execute_result"
    },
    {
     "data": {
      "image/png": "[encoded data removed]",
      "text/plain": [
       "<matplotlib.figure.Figure at 0x24b10ed90b8>"
      ]
     },
     "metadata": {},
     "output_type": "display_data"
    }
   ],
   "source": [
    "area_sp_yr_wide=area_sp_yr.pivot(index='year',columns='species',values='area') #pivot and plot data\n",
    "my_plot=area_sp_yr_wide.plot(kind='bar', stacked=True, legend=True, title='Area by species per year')\n",
    "\n",
    "my_plot.set_xlabel('Year') #set axis label\n",
    "my_plot.set_ylabel('Area')"
   ]
  },
  {
   "cell_type": "code",
   "execution_count": 85,
   "metadata": {
    "collapsed": false
   },
   "outputs": [
    {
     "data": {
      "text/plain": [
       "<matplotlib.text.Text at 0x24b124be240>"
      ]
     },
     "execution_count": 85,
     "metadata": {},
     "output_type": "execute_result"
    },
    {
     "data": {
      "image/png": "[encoded data removed]",
      "text/plain": [
       "<matplotlib.figure.Figure at 0x24b12331278>"
      ]
     },
     "metadata": {},
     "output_type": "display_data"
    }
   ],
   "source": [
    "#and once more without the legend\n",
    "area_sp_yr_wide=area_sp_yr.pivot(index='year',columns='species',values='area') #pivot and plot data\n",
    "my_plot=area_sp_yr_wide.plot(kind='bar', stacked=True, legend=False, title='Area by species per year')\n",
    "\n",
    "my_plot.set_xlabel('Year') #set axis label\n",
    "my_plot.set_ylabel('Area')"
   ]
  },
  {
   "cell_type": "markdown",
   "metadata": {},
   "source": [
    "A plot of the area covered by each growth-form over all quadrats (y) for each year (x). Same as above but growth form is needed instead of species so merge sp and cover."
   ]
  },
  {
   "cell_type": "code",
   "execution_count": 86,
   "metadata": {
    "collapsed": false
   },
   "outputs": [
    {
     "data": {
      "text/html": [
       "<div>\n",
       "<table border=\"1\" class=\"dataframe\">\n",
       "  <thead>\n",
       "    <tr style=\"text-align: right;\">\n",
       "      <th></th>\n",
       "      <th>quad</th>\n",
       "      <th>year</th>\n",
       "      <th>species</th>\n",
       "      <th>area</th>\n",
       "      <th>x</th>\n",
       "      <th>y</th>\n",
       "      <th>density</th>\n",
       "      <th>cover</th>\n",
       "      <th>growthform</th>\n",
       "      <th>longevity</th>\n",
       "    </tr>\n",
       "  </thead>\n",
       "  <tbody>\n",
       "    <tr>\n",
       "      <th>0</th>\n",
       "      <td>gzgz_11</td>\n",
       "      <td>1997</td>\n",
       "      <td>Corner plate</td>\n",
       "      <td>0.001863</td>\n",
       "      <td>0.021345</td>\n",
       "      <td>0.977800</td>\n",
       "      <td>NaN</td>\n",
       "      <td>1299.0</td>\n",
       "      <td>Not plant</td>\n",
       "      <td>Not plant</td>\n",
       "    </tr>\n",
       "    <tr>\n",
       "      <th>1</th>\n",
       "      <td>gzgz_11</td>\n",
       "      <td>1997</td>\n",
       "      <td>Bare ground</td>\n",
       "      <td>0.013359</td>\n",
       "      <td>0.086730</td>\n",
       "      <td>0.946482</td>\n",
       "      <td>10.0</td>\n",
       "      <td>1988.0</td>\n",
       "      <td>Not plant</td>\n",
       "      <td>Not plant</td>\n",
       "    </tr>\n",
       "    <tr>\n",
       "      <th>2</th>\n",
       "      <td>gzgz_11</td>\n",
       "      <td>1997</td>\n",
       "      <td>Bouteloua gracilis</td>\n",
       "      <td>0.000169</td>\n",
       "      <td>0.167067</td>\n",
       "      <td>0.996623</td>\n",
       "      <td>NaN</td>\n",
       "      <td>47497.0</td>\n",
       "      <td>grass</td>\n",
       "      <td>P</td>\n",
       "    </tr>\n",
       "    <tr>\n",
       "      <th>3</th>\n",
       "      <td>gzgz_11</td>\n",
       "      <td>1997</td>\n",
       "      <td>Bouteloua gracilis</td>\n",
       "      <td>0.014171</td>\n",
       "      <td>0.343203</td>\n",
       "      <td>0.963770</td>\n",
       "      <td>NaN</td>\n",
       "      <td>47497.0</td>\n",
       "      <td>grass</td>\n",
       "      <td>P</td>\n",
       "    </tr>\n",
       "    <tr>\n",
       "      <th>4</th>\n",
       "      <td>gzgz_11</td>\n",
       "      <td>1997</td>\n",
       "      <td>Bare ground</td>\n",
       "      <td>0.001982</td>\n",
       "      <td>0.377101</td>\n",
       "      <td>0.987494</td>\n",
       "      <td>10.0</td>\n",
       "      <td>1988.0</td>\n",
       "      <td>Not plant</td>\n",
       "      <td>Not plant</td>\n",
       "    </tr>\n",
       "  </tbody>\n",
       "</table>\n",
       "</div>"
      ],
      "text/plain": [
       "      quad  year             species      area         x         y  density  \\\n",
       "0  gzgz_11  1997        Corner plate  0.001863  0.021345  0.977800      NaN   \n",
       "1  gzgz_11  1997         Bare ground  0.013359  0.086730  0.946482     10.0   \n",
       "2  gzgz_11  1997  Bouteloua gracilis  0.000169  0.167067  0.996623      NaN   \n",
       "3  gzgz_11  1997  Bouteloua gracilis  0.014171  0.343203  0.963770      NaN   \n",
       "4  gzgz_11  1997         Bare ground  0.001982  0.377101  0.987494     10.0   \n",
       "\n",
       "     cover growthform  longevity  \n",
       "0   1299.0  Not plant  Not plant  \n",
       "1   1988.0  Not plant  Not plant  \n",
       "2  47497.0      grass          P  \n",
       "3  47497.0      grass          P  \n",
       "4   1988.0  Not plant  Not plant  "
      ]
     },
     "execution_count": 86,
     "metadata": {},
     "output_type": "execute_result"
    }
   ],
   "source": [
    "#merge sp and cover\n",
    "cover_sp =pd.merge(left =cover, right=sp, left_on='species', right_on='species', how='left')\n",
    "cover_sp.head()"
   ]
  },
  {
   "cell_type": "code",
   "execution_count": 87,
   "metadata": {
    "collapsed": false
   },
   "outputs": [
    {
     "data": {
      "text/html": [
       "<div>\n",
       "<table border=\"1\" class=\"dataframe\">\n",
       "  <thead>\n",
       "    <tr style=\"text-align: right;\">\n",
       "      <th></th>\n",
       "      <th>growthform</th>\n",
       "      <th>year</th>\n",
       "      <th>area</th>\n",
       "    </tr>\n",
       "  </thead>\n",
       "  <tbody>\n",
       "    <tr>\n",
       "      <th>0</th>\n",
       "      <td>Crown</td>\n",
       "      <td>1998</td>\n",
       "      <td>0.883835</td>\n",
       "    </tr>\n",
       "    <tr>\n",
       "      <th>1</th>\n",
       "      <td>Crown</td>\n",
       "      <td>1999</td>\n",
       "      <td>1.001064</td>\n",
       "    </tr>\n",
       "    <tr>\n",
       "      <th>2</th>\n",
       "      <td>Crown</td>\n",
       "      <td>2000</td>\n",
       "      <td>0.287084</td>\n",
       "    </tr>\n",
       "    <tr>\n",
       "      <th>3</th>\n",
       "      <td>Crown</td>\n",
       "      <td>2001</td>\n",
       "      <td>0.503875</td>\n",
       "    </tr>\n",
       "    <tr>\n",
       "      <th>4</th>\n",
       "      <td>Crown</td>\n",
       "      <td>2002</td>\n",
       "      <td>1.647143</td>\n",
       "    </tr>\n",
       "  </tbody>\n",
       "</table>\n",
       "</div>"
      ],
      "text/plain": [
       "  growthform  year      area\n",
       "0      Crown  1998  0.883835\n",
       "1      Crown  1999  1.001064\n",
       "2      Crown  2000  0.287084\n",
       "3      Crown  2001  0.503875\n",
       "4      Crown  2002  1.647143"
      ]
     },
     "execution_count": 87,
     "metadata": {},
     "output_type": "execute_result"
    }
   ],
   "source": [
    "#group by growthform and year then total area\n",
    "area_gf_yr=cover_sp.groupby(['growthform','year'], as_index=False).area.sum() \n",
    "area_gf_yr.head() #check result"
   ]
  },
  {
   "cell_type": "code",
   "execution_count": 88,
   "metadata": {
    "collapsed": false
   },
   "outputs": [
    {
     "data": {
      "text/plain": [
       "<matplotlib.text.Text at 0x24b12b89390>"
      ]
     },
     "execution_count": 88,
     "metadata": {},
     "output_type": "execute_result"
    },
    {
     "data": {
      "image/png": "[encoded data removed]",
      "text/plain": [
       "<matplotlib.figure.Figure at 0x24b12aa7cc0>"
      ]
     },
     "metadata": {},
     "output_type": "display_data"
    }
   ],
   "source": [
    "area_gf_yr_wide=area_gf_yr.pivot(index='year',columns='growthform',values='area') #pivot and plot data\n",
    "my_plot2=area_gf_yr_wide.plot(kind='bar', stacked=True, legend=True, title='Area by growthform per year')\n",
    "\n",
    "my_plot2.set_xlabel('Year') #set axis label\n",
    "my_plot2.set_ylabel('Area')"
   ]
  },
  {
   "cell_type": "code",
   "execution_count": 89,
   "metadata": {
    "collapsed": false
   },
   "outputs": [
    {
     "data": {
      "text/plain": [
       "<matplotlib.text.Text at 0x24b24c04320>"
      ]
     },
     "execution_count": 89,
     "metadata": {},
     "output_type": "execute_result"
    },
    {
     "data": {
      "image/png": "[encoded data removed]",
      "text/plain": [
       "<matplotlib.figure.Figure at 0x24b10ecb630>"
      ]
     },
     "metadata": {},
     "output_type": "display_data"
    }
   ],
   "source": [
    "#and once more without the legend\n",
    "area_gf_yr_wide=area_gf_yr.pivot(index='year',columns='growthform',values='area') #pivot and plot data\n",
    "my_plot2=area_gf_yr_wide.plot(kind='bar', stacked=True, legend=False, title='Area by growthform per year')\n",
    "\n",
    "my_plot2.set_xlabel('Year') #set axis label\n",
    "my_plot2.set_ylabel('Area')"
   ]
  },
  {
   "cell_type": "code",
   "execution_count": 90,
   "metadata": {
    "collapsed": false
   },
   "outputs": [
    {
     "data": {
      "text/plain": [
       "<matplotlib.text.Text at 0x24b24d5ee80>"
      ]
     },
     "execution_count": 90,
     "metadata": {},
     "output_type": "execute_result"
    },
    {
     "data": {
      "image/png": "[encoded data removed]",
      "text/plain": [
       "<matplotlib.figure.Figure at 0x24b12964390>"
      ]
     },
     "metadata": {},
     "output_type": "display_data"
    }
   ],
   "source": [
    "#and unstacked...\n",
    "area_gf_yr_wide=area_gf_yr.pivot(index='year',columns='growthform',values='area') #pivot and plot data\n",
    "my_plot2=area_gf_yr_wide.plot(kind='bar', stacked=False, legend=False, title='Area by growthform per year')\n",
    "\n",
    "my_plot2.set_xlabel('Year') #set axis label\n",
    "my_plot2.set_ylabel('Area')"
   ]
  },
  {
   "cell_type": "markdown",
   "metadata": {},
   "source": [
    "A plot of the area covered by each growth-form over all quadrats (y) as a function of the mean precipitation for the year (x). "
   ]
  },
  {
   "cell_type": "code",
   "execution_count": 91,
   "metadata": {
    "collapsed": false
   },
   "outputs": [
    {
     "data": {
      "text/html": [
       "<div>\n",
       "<table border=\"1\" class=\"dataframe\">\n",
       "  <thead>\n",
       "    <tr style=\"text-align: right;\">\n",
       "      <th></th>\n",
       "      <th>year</th>\n",
       "      <th>precip</th>\n",
       "    </tr>\n",
       "  </thead>\n",
       "  <tbody>\n",
       "    <tr>\n",
       "      <th>0</th>\n",
       "      <td>1997</td>\n",
       "      <td>1.543701</td>\n",
       "    </tr>\n",
       "    <tr>\n",
       "      <th>1</th>\n",
       "      <td>1998</td>\n",
       "      <td>0.964534</td>\n",
       "    </tr>\n",
       "    <tr>\n",
       "      <th>2</th>\n",
       "      <td>1999</td>\n",
       "      <td>1.649775</td>\n",
       "    </tr>\n",
       "    <tr>\n",
       "      <th>3</th>\n",
       "      <td>2000</td>\n",
       "      <td>0.694447</td>\n",
       "    </tr>\n",
       "    <tr>\n",
       "      <th>4</th>\n",
       "      <td>2001</td>\n",
       "      <td>0.882880</td>\n",
       "    </tr>\n",
       "  </tbody>\n",
       "</table>\n",
       "</div>"
      ],
      "text/plain": [
       "   year    precip\n",
       "0  1997  1.543701\n",
       "1  1998  0.964534\n",
       "2  1999  1.649775\n",
       "3  2000  0.694447\n",
       "4  2001  0.882880"
      ]
     },
     "execution_count": 91,
     "metadata": {},
     "output_type": "execute_result"
    }
   ],
   "source": [
    "#calculate mean precipitation for each year\n",
    "mean_prec=climate.groupby('year', as_index=False).precip.mean() \n",
    "mean_prec.head()\n"
   ]
  },
  {
   "cell_type": "code",
   "execution_count": 92,
   "metadata": {
    "collapsed": false
   },
   "outputs": [
    {
     "data": {
      "text/html": [
       "<div>\n",
       "<table border=\"1\" class=\"dataframe\">\n",
       "  <thead>\n",
       "    <tr style=\"text-align: right;\">\n",
       "      <th></th>\n",
       "      <th>quad</th>\n",
       "      <th>year</th>\n",
       "      <th>species</th>\n",
       "      <th>area</th>\n",
       "      <th>x</th>\n",
       "      <th>y</th>\n",
       "      <th>density</th>\n",
       "      <th>cover</th>\n",
       "      <th>growthform</th>\n",
       "      <th>longevity</th>\n",
       "      <th>precip</th>\n",
       "    </tr>\n",
       "  </thead>\n",
       "  <tbody>\n",
       "    <tr>\n",
       "      <th>0</th>\n",
       "      <td>gzgz_11</td>\n",
       "      <td>1997</td>\n",
       "      <td>Corner plate</td>\n",
       "      <td>0.001863</td>\n",
       "      <td>0.021345</td>\n",
       "      <td>0.977800</td>\n",
       "      <td>NaN</td>\n",
       "      <td>1299.0</td>\n",
       "      <td>Not plant</td>\n",
       "      <td>Not plant</td>\n",
       "      <td>1.543701</td>\n",
       "    </tr>\n",
       "    <tr>\n",
       "      <th>1</th>\n",
       "      <td>gzgz_11</td>\n",
       "      <td>1997</td>\n",
       "      <td>Bare ground</td>\n",
       "      <td>0.013359</td>\n",
       "      <td>0.086730</td>\n",
       "      <td>0.946482</td>\n",
       "      <td>10.0</td>\n",
       "      <td>1988.0</td>\n",
       "      <td>Not plant</td>\n",
       "      <td>Not plant</td>\n",
       "      <td>1.543701</td>\n",
       "    </tr>\n",
       "    <tr>\n",
       "      <th>2</th>\n",
       "      <td>gzgz_11</td>\n",
       "      <td>1997</td>\n",
       "      <td>Bouteloua gracilis</td>\n",
       "      <td>0.000169</td>\n",
       "      <td>0.167067</td>\n",
       "      <td>0.996623</td>\n",
       "      <td>NaN</td>\n",
       "      <td>47497.0</td>\n",
       "      <td>grass</td>\n",
       "      <td>P</td>\n",
       "      <td>1.543701</td>\n",
       "    </tr>\n",
       "    <tr>\n",
       "      <th>3</th>\n",
       "      <td>gzgz_11</td>\n",
       "      <td>1997</td>\n",
       "      <td>Bouteloua gracilis</td>\n",
       "      <td>0.014171</td>\n",
       "      <td>0.343203</td>\n",
       "      <td>0.963770</td>\n",
       "      <td>NaN</td>\n",
       "      <td>47497.0</td>\n",
       "      <td>grass</td>\n",
       "      <td>P</td>\n",
       "      <td>1.543701</td>\n",
       "    </tr>\n",
       "    <tr>\n",
       "      <th>4</th>\n",
       "      <td>gzgz_11</td>\n",
       "      <td>1997</td>\n",
       "      <td>Bare ground</td>\n",
       "      <td>0.001982</td>\n",
       "      <td>0.377101</td>\n",
       "      <td>0.987494</td>\n",
       "      <td>10.0</td>\n",
       "      <td>1988.0</td>\n",
       "      <td>Not plant</td>\n",
       "      <td>Not plant</td>\n",
       "      <td>1.543701</td>\n",
       "    </tr>\n",
       "  </tbody>\n",
       "</table>\n",
       "</div>"
      ],
      "text/plain": [
       "      quad  year             species      area         x         y  density  \\\n",
       "0  gzgz_11  1997        Corner plate  0.001863  0.021345  0.977800      NaN   \n",
       "1  gzgz_11  1997         Bare ground  0.013359  0.086730  0.946482     10.0   \n",
       "2  gzgz_11  1997  Bouteloua gracilis  0.000169  0.167067  0.996623      NaN   \n",
       "3  gzgz_11  1997  Bouteloua gracilis  0.014171  0.343203  0.963770      NaN   \n",
       "4  gzgz_11  1997         Bare ground  0.001982  0.377101  0.987494     10.0   \n",
       "\n",
       "     cover growthform  longevity    precip  \n",
       "0   1299.0  Not plant  Not plant  1.543701  \n",
       "1   1988.0  Not plant  Not plant  1.543701  \n",
       "2  47497.0      grass          P  1.543701  \n",
       "3  47497.0      grass          P  1.543701  \n",
       "4   1988.0  Not plant  Not plant  1.543701  "
      ]
     },
     "execution_count": 92,
     "metadata": {},
     "output_type": "execute_result"
    }
   ],
   "source": [
    "#merge with cover_sp on year\n",
    "merged =pd.merge(left =cover_sp, right=mean_prec, left_on='year', right_on='year', how='left')\n",
    "merged.head()"
   ]
  },
  {
   "cell_type": "code",
   "execution_count": 93,
   "metadata": {
    "collapsed": false
   },
   "outputs": [
    {
     "data": {
      "text/html": [
       "<div>\n",
       "<table border=\"1\" class=\"dataframe\">\n",
       "  <thead>\n",
       "    <tr style=\"text-align: right;\">\n",
       "      <th></th>\n",
       "      <th>growthform</th>\n",
       "      <th>precip</th>\n",
       "      <th>area</th>\n",
       "    </tr>\n",
       "  </thead>\n",
       "  <tbody>\n",
       "    <tr>\n",
       "      <th>0</th>\n",
       "      <td>Crown</td>\n",
       "      <td>0.559414</td>\n",
       "      <td>1.647143</td>\n",
       "    </tr>\n",
       "    <tr>\n",
       "      <th>1</th>\n",
       "      <td>Crown</td>\n",
       "      <td>0.694447</td>\n",
       "      <td>0.287084</td>\n",
       "    </tr>\n",
       "    <tr>\n",
       "      <th>2</th>\n",
       "      <td>Crown</td>\n",
       "      <td>0.843191</td>\n",
       "      <td>12.285852</td>\n",
       "    </tr>\n",
       "    <tr>\n",
       "      <th>3</th>\n",
       "      <td>Crown</td>\n",
       "      <td>0.882880</td>\n",
       "      <td>0.503875</td>\n",
       "    </tr>\n",
       "    <tr>\n",
       "      <th>4</th>\n",
       "      <td>Crown</td>\n",
       "      <td>0.964534</td>\n",
       "      <td>0.883835</td>\n",
       "    </tr>\n",
       "  </tbody>\n",
       "</table>\n",
       "</div>"
      ],
      "text/plain": [
       "  growthform    precip       area\n",
       "0      Crown  0.559414   1.647143\n",
       "1      Crown  0.694447   0.287084\n",
       "2      Crown  0.843191  12.285852\n",
       "3      Crown  0.882880   0.503875\n",
       "4      Crown  0.964534   0.883835"
      ]
     },
     "execution_count": 93,
     "metadata": {},
     "output_type": "execute_result"
    }
   ],
   "source": [
    "#group by growthform and precip then total area\n",
    "merged_gf_prec=merged.groupby(['growthform','precip'], as_index=False).area.sum() \n",
    "merged_gf_prec.head() #check result"
   ]
  },
  {
   "cell_type": "code",
   "execution_count": 94,
   "metadata": {
    "collapsed": false
   },
   "outputs": [
    {
     "data": {
      "text/plain": [
       "<matplotlib.text.Text at 0x24b24ed3d68>"
      ]
     },
     "execution_count": 94,
     "metadata": {},
     "output_type": "execute_result"
    },
    {
     "data": {
      "image/png": "[encoded data removed]",
      "text/plain": [
       "<matplotlib.figure.Figure at 0x24b24e19e48>"
      ]
     },
     "metadata": {},
     "output_type": "display_data"
    }
   ],
   "source": [
    "merged_gf_prec_wide=merged_gf_prec.pivot(index='precip',columns='growthform',values='area') #pivot and plot data\n",
    "my_plot3=merged_gf_prec_wide.plot(kind='line', stacked=False, legend=True, title='Area by growthform per precipitation')\n",
    "\n",
    "my_plot3.set_xlabel('Mean precipitation') #set axis label\n",
    "my_plot3.set_ylabel('Area')"
   ]
  },
  {
   "cell_type": "code",
   "execution_count": 95,
   "metadata": {
    "collapsed": false
   },
   "outputs": [
    {
     "data": {
      "text/plain": [
       "<matplotlib.text.Text at 0x24b24f58fd0>"
      ]
     },
     "execution_count": 95,
     "metadata": {},
     "output_type": "execute_result"
    },
    {
     "data": {
      "image/png": "[encoded data removed]",
      "text/plain": [
       "<matplotlib.figure.Figure at 0x24b24eaca20>"
      ]
     },
     "metadata": {},
     "output_type": "display_data"
    }
   ],
   "source": [
    "#again as a bar graph, same legend applies\n",
    "merged_gf_prec_wide=merged_gf_prec.pivot(index='precip',columns='growthform',values='area') #pivot and plot data\n",
    "my_plot4=merged_gf_prec_wide.plot(kind='bar', stacked=True, legend=False, title='Area by growthform per precipitation')\n",
    "\n",
    "my_plot4.set_xlabel('Mean precipitation') #set axis label\n",
    "my_plot4.set_ylabel('Area')"
   ]
  },
  {
   "cell_type": "code",
   "execution_count": 96,
   "metadata": {
    "collapsed": false
   },
   "outputs": [
    {
     "data": {
      "text/plain": [
       "<matplotlib.text.Text at 0x24b250ca358>"
      ]
     },
     "execution_count": 96,
     "metadata": {},
     "output_type": "execute_result"
    },
    {
     "data": {
      "image/png": "[encoded data removed]",
      "text/plain": [
       "<matplotlib.figure.Figure at 0x24b24e08d30>"
      ]
     },
     "metadata": {},
     "output_type": "display_data"
    }
   ],
   "source": [
    "#unstacked...\n",
    "merged_gf_prec_wide=merged_gf_prec.pivot(index='precip',columns='growthform',values='area') #pivot and plot data\n",
    "my_plot4=merged_gf_prec_wide.plot(kind='bar', stacked=False, legend=False, title='Area by growthform per precipitation')\n",
    "\n",
    "my_plot4.set_xlabel('Mean precipitation') #set axis label\n",
    "my_plot4.set_ylabel('Area')"
   ]
  },
  {
   "cell_type": "markdown",
   "metadata": {},
   "source": [
    "At least one additional plot investigating the relationship between plant composition (e.g. species or growth form) and another variable.\n",
    "\n"
   ]
  },
  {
   "cell_type": "markdown",
   "metadata": {},
   "source": [
    "A plot of the area covered by each growth-form (y) as a function of elevation."
   ]
  },
  {
   "cell_type": "code",
   "execution_count": 97,
   "metadata": {
    "collapsed": false
   },
   "outputs": [
    {
     "data": {
      "text/html": [
       "<div>\n",
       "<table border=\"1\" class=\"dataframe\">\n",
       "  <thead>\n",
       "    <tr style=\"text-align: right;\">\n",
       "      <th></th>\n",
       "      <th>quad</th>\n",
       "      <th>year</th>\n",
       "      <th>species</th>\n",
       "      <th>area</th>\n",
       "      <th>x</th>\n",
       "      <th>y</th>\n",
       "      <th>density</th>\n",
       "      <th>cover</th>\n",
       "      <th>growthform</th>\n",
       "      <th>longevity</th>\n",
       "      <th>precip</th>\n",
       "      <th>quadrat</th>\n",
       "      <th>pasture</th>\n",
       "      <th>latitude</th>\n",
       "      <th>longitude</th>\n",
       "      <th>elevation</th>\n",
       "      <th>before1997</th>\n",
       "      <th>from1997</th>\n",
       "    </tr>\n",
       "  </thead>\n",
       "  <tbody>\n",
       "    <tr>\n",
       "      <th>0</th>\n",
       "      <td>gzgz_11</td>\n",
       "      <td>1997</td>\n",
       "      <td>Corner plate</td>\n",
       "      <td>0.001863</td>\n",
       "      <td>0.021345</td>\n",
       "      <td>0.977800</td>\n",
       "      <td>NaN</td>\n",
       "      <td>1299.0</td>\n",
       "      <td>Not plant</td>\n",
       "      <td>Not plant</td>\n",
       "      <td>1.543701</td>\n",
       "      <td>gzgz_11</td>\n",
       "      <td>11</td>\n",
       "      <td>40.842943</td>\n",
       "      <td>-104.744032</td>\n",
       "      <td>1656</td>\n",
       "      <td>grazed</td>\n",
       "      <td>grazed</td>\n",
       "    </tr>\n",
       "    <tr>\n",
       "      <th>1</th>\n",
       "      <td>gzgz_11</td>\n",
       "      <td>1997</td>\n",
       "      <td>Bare ground</td>\n",
       "      <td>0.013359</td>\n",
       "      <td>0.086730</td>\n",
       "      <td>0.946482</td>\n",
       "      <td>10.0</td>\n",
       "      <td>1988.0</td>\n",
       "      <td>Not plant</td>\n",
       "      <td>Not plant</td>\n",
       "      <td>1.543701</td>\n",
       "      <td>gzgz_11</td>\n",
       "      <td>11</td>\n",
       "      <td>40.842943</td>\n",
       "      <td>-104.744032</td>\n",
       "      <td>1656</td>\n",
       "      <td>grazed</td>\n",
       "      <td>grazed</td>\n",
       "    </tr>\n",
       "    <tr>\n",
       "      <th>2</th>\n",
       "      <td>gzgz_11</td>\n",
       "      <td>1997</td>\n",
       "      <td>Bouteloua gracilis</td>\n",
       "      <td>0.000169</td>\n",
       "      <td>0.167067</td>\n",
       "      <td>0.996623</td>\n",
       "      <td>NaN</td>\n",
       "      <td>47497.0</td>\n",
       "      <td>grass</td>\n",
       "      <td>P</td>\n",
       "      <td>1.543701</td>\n",
       "      <td>gzgz_11</td>\n",
       "      <td>11</td>\n",
       "      <td>40.842943</td>\n",
       "      <td>-104.744032</td>\n",
       "      <td>1656</td>\n",
       "      <td>grazed</td>\n",
       "      <td>grazed</td>\n",
       "    </tr>\n",
       "    <tr>\n",
       "      <th>3</th>\n",
       "      <td>gzgz_11</td>\n",
       "      <td>1997</td>\n",
       "      <td>Bouteloua gracilis</td>\n",
       "      <td>0.014171</td>\n",
       "      <td>0.343203</td>\n",
       "      <td>0.963770</td>\n",
       "      <td>NaN</td>\n",
       "      <td>47497.0</td>\n",
       "      <td>grass</td>\n",
       "      <td>P</td>\n",
       "      <td>1.543701</td>\n",
       "      <td>gzgz_11</td>\n",
       "      <td>11</td>\n",
       "      <td>40.842943</td>\n",
       "      <td>-104.744032</td>\n",
       "      <td>1656</td>\n",
       "      <td>grazed</td>\n",
       "      <td>grazed</td>\n",
       "    </tr>\n",
       "    <tr>\n",
       "      <th>4</th>\n",
       "      <td>gzgz_11</td>\n",
       "      <td>1997</td>\n",
       "      <td>Bare ground</td>\n",
       "      <td>0.001982</td>\n",
       "      <td>0.377101</td>\n",
       "      <td>0.987494</td>\n",
       "      <td>10.0</td>\n",
       "      <td>1988.0</td>\n",
       "      <td>Not plant</td>\n",
       "      <td>Not plant</td>\n",
       "      <td>1.543701</td>\n",
       "      <td>gzgz_11</td>\n",
       "      <td>11</td>\n",
       "      <td>40.842943</td>\n",
       "      <td>-104.744032</td>\n",
       "      <td>1656</td>\n",
       "      <td>grazed</td>\n",
       "      <td>grazed</td>\n",
       "    </tr>\n",
       "  </tbody>\n",
       "</table>\n",
       "</div>"
      ],
      "text/plain": [
       "      quad  year             species      area         x         y  density  \\\n",
       "0  gzgz_11  1997        Corner plate  0.001863  0.021345  0.977800      NaN   \n",
       "1  gzgz_11  1997         Bare ground  0.013359  0.086730  0.946482     10.0   \n",
       "2  gzgz_11  1997  Bouteloua gracilis  0.000169  0.167067  0.996623      NaN   \n",
       "3  gzgz_11  1997  Bouteloua gracilis  0.014171  0.343203  0.963770      NaN   \n",
       "4  gzgz_11  1997         Bare ground  0.001982  0.377101  0.987494     10.0   \n",
       "\n",
       "     cover growthform  longevity    precip  quadrat pasture   latitude  \\\n",
       "0   1299.0  Not plant  Not plant  1.543701  gzgz_11      11  40.842943   \n",
       "1   1988.0  Not plant  Not plant  1.543701  gzgz_11      11  40.842943   \n",
       "2  47497.0      grass          P  1.543701  gzgz_11      11  40.842943   \n",
       "3  47497.0      grass          P  1.543701  gzgz_11      11  40.842943   \n",
       "4   1988.0  Not plant  Not plant  1.543701  gzgz_11      11  40.842943   \n",
       "\n",
       "    longitude  elevation before1997 from1997  \n",
       "0 -104.744032       1656     grazed   grazed  \n",
       "1 -104.744032       1656     grazed   grazed  \n",
       "2 -104.744032       1656     grazed   grazed  \n",
       "3 -104.744032       1656     grazed   grazed  \n",
       "4 -104.744032       1656     grazed   grazed  "
      ]
     },
     "execution_count": 97,
     "metadata": {},
     "output_type": "execute_result"
    }
   ],
   "source": [
    "#merge with info on quad\n",
    "final=pd.merge(left =merged, right=info, left_on='quad', right_on='quadrat', how='left')\n",
    "final.head()"
   ]
  },
  {
   "cell_type": "code",
   "execution_count": 98,
   "metadata": {
    "collapsed": false
   },
   "outputs": [
    {
     "data": {
      "text/html": [
       "<div>\n",
       "<table border=\"1\" class=\"dataframe\">\n",
       "  <thead>\n",
       "    <tr style=\"text-align: right;\">\n",
       "      <th></th>\n",
       "      <th>growthform</th>\n",
       "      <th>elevation</th>\n",
       "      <th>area</th>\n",
       "    </tr>\n",
       "  </thead>\n",
       "  <tbody>\n",
       "    <tr>\n",
       "      <th>0</th>\n",
       "      <td>Crown</td>\n",
       "      <td>1629</td>\n",
       "      <td>1.070674</td>\n",
       "    </tr>\n",
       "    <tr>\n",
       "      <th>1</th>\n",
       "      <td>Crown</td>\n",
       "      <td>1630</td>\n",
       "      <td>0.855076</td>\n",
       "    </tr>\n",
       "    <tr>\n",
       "      <th>2</th>\n",
       "      <td>Crown</td>\n",
       "      <td>1633</td>\n",
       "      <td>1.578567</td>\n",
       "    </tr>\n",
       "    <tr>\n",
       "      <th>3</th>\n",
       "      <td>Crown</td>\n",
       "      <td>1635</td>\n",
       "      <td>1.868877</td>\n",
       "    </tr>\n",
       "    <tr>\n",
       "      <th>4</th>\n",
       "      <td>Crown</td>\n",
       "      <td>1650</td>\n",
       "      <td>2.306404</td>\n",
       "    </tr>\n",
       "  </tbody>\n",
       "</table>\n",
       "</div>"
      ],
      "text/plain": [
       "  growthform  elevation      area\n",
       "0      Crown       1629  1.070674\n",
       "1      Crown       1630  0.855076\n",
       "2      Crown       1633  1.578567\n",
       "3      Crown       1635  1.868877\n",
       "4      Crown       1650  2.306404"
      ]
     },
     "execution_count": 98,
     "metadata": {},
     "output_type": "execute_result"
    }
   ],
   "source": [
    "#group by growthform and elevation then total area\n",
    "gf_elev=final.groupby(['growthform','elevation'], as_index=False).area.sum() \n",
    "gf_elev.head() #check result"
   ]
  },
  {
   "cell_type": "code",
   "execution_count": 99,
   "metadata": {
    "collapsed": false
   },
   "outputs": [
    {
     "data": {
      "text/plain": [
       "<matplotlib.text.Text at 0x24b25239dd8>"
      ]
     },
     "execution_count": 99,
     "metadata": {},
     "output_type": "execute_result"
    },
    {
     "data": {
      "image/png": "[encoded data removed]",
      "text/plain": [
       "<matplotlib.figure.Figure at 0x24b25142e80>"
      ]
     },
     "metadata": {},
     "output_type": "display_data"
    }
   ],
   "source": [
    "#pivot and plot data\n",
    "gf_elev_wide=gf_elev.pivot(index='elevation',columns='growthform',values='area') \n",
    "my_plot5=gf_elev_wide.plot(kind='line', stacked=False, legend=True, title='Area by growthform per elevation')\n",
    "\n",
    "my_plot5.set_xlabel('Elevation') #set axis label\n",
    "my_plot5.set_ylabel('Area')"
   ]
  },
  {
   "cell_type": "code",
   "execution_count": 100,
   "metadata": {
    "collapsed": false
   },
   "outputs": [
    {
     "data": {
      "text/plain": [
       "<matplotlib.text.Text at 0x24b252c0240>"
      ]
     },
     "execution_count": 100,
     "metadata": {},
     "output_type": "execute_result"
    },
    {
     "data": {
      "image/png": "[encoded data removed]",
      "text/plain": [
       "<matplotlib.figure.Figure at 0x24b25248898>"
      ]
     },
     "metadata": {},
     "output_type": "display_data"
    }
   ],
   "source": [
    "#again as a bar graph\n",
    "gf_elev_wide=gf_elev.pivot(index='elevation',columns='growthform',values='area') \n",
    "my_plot6=gf_elev_wide.plot(kind='bar', stacked=True, legend=True, title='Area by growthform per elevation')\n",
    "\n",
    "my_plot6.set_xlabel('Elevation') #set axis label\n",
    "my_plot6.set_ylabel('Area')"
   ]
  },
  {
   "cell_type": "code",
   "execution_count": 101,
   "metadata": {
    "collapsed": false
   },
   "outputs": [
    {
     "data": {
      "text/plain": [
       "<matplotlib.text.Text at 0x24b25429b00>"
      ]
     },
     "execution_count": 101,
     "metadata": {},
     "output_type": "execute_result"
    },
    {
     "data": {
      "image/png": "[encoded data removed]",
      "text/plain": [
       "<matplotlib.figure.Figure at 0x24b252ef630>"
      ]
     },
     "metadata": {},
     "output_type": "display_data"
    }
   ],
   "source": [
    "#unstacked\n",
    "gf_elev_wide=gf_elev.pivot(index='elevation',columns='growthform',values='area') \n",
    "my_plot6=gf_elev_wide.plot(kind='bar', stacked=False, legend=True, title='Area by growthform per elevation')\n",
    "\n",
    "my_plot6.set_xlabel('Elevation') #set axis label\n",
    "my_plot6.set_ylabel('Area')"
   ]
  },
  {
   "cell_type": "code",
   "execution_count": null,
   "metadata": {
    "collapsed": true
   },
   "outputs": [],
   "source": []
  }
 ],
 "metadata": {
  "anaconda-cloud": {},
  "kernelspec": {
   "display_name": "Python [default]",
   "language": "python",
   "name": "python3"
  },
  "language_info": {
   "codemirror_mode": {
    "name": "ipython",
    "version": 3
   },
   "file_extension": ".py",
   "mimetype": "text/x-python",
   "name": "python",
   "nbconvert_exporter": "python",
   "pygments_lexer": "ipython3",
   "version": "3.5.2"
  }
 },
 "nbformat": 4,
 "nbformat_minor": 1
}
