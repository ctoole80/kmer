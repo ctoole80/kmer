{
 "cells": [
  {
   "cell_type": "markdown",
   "metadata": {},
   "source": [
    "Open and Read file"
   ]
  },
  {
   "cell_type": "code",
   "execution_count": 1,
   "metadata": {
    "collapsed": true
   },
   "outputs": [],
   "source": [
    "filename ='sample.fastq'\n",
    "f=open(filename, 'r')"
   ]
  },
  {
   "cell_type": "code",
   "execution_count": 2,
   "metadata": {
    "collapsed": true
   },
   "outputs": [],
   "source": [
    "fastq=f.readlines()"
   ]
  },
  {
   "cell_type": "markdown",
   "metadata": {},
   "source": [
    "Define kmer_count function"
   ]
  },
  {
   "cell_type": "code",
   "execution_count": 10,
   "metadata": {
    "collapsed": true
   },
   "outputs": [],
   "source": [
    "def kmer_count(data, k):\n",
    "    \"\"\"Counts kmer of desired length, k, in fastq file\"\"\"\n",
    "    F={} #set up dict for holding total kmer count\n",
    "    for line_num,line in enumerate(data): #go through each line of list\n",
    "        if line_num % 4 == 1: #check if line is sequence\n",
    "            dna=line.rstrip()\n",
    "            for x in range(len(dna)+1-k): #slide along sequence\n",
    "                kmer=dna[x:x+k] #select kmer at x\n",
    "                F[kmer]=F.get(kmer,0)+1 #increment total kmer count\n",
    "    print(F)"
   ]
  },
  {
   "cell_type": "markdown",
   "metadata": {},
   "source": [
    "Count the number of each base across all sequences in fastq"
   ]
  },
  {
   "cell_type": "code",
   "execution_count": 11,
   "metadata": {
    "collapsed": false
   },
   "outputs": [
    {
     "name": "stdout",
     "output_type": "stream",
     "text": [
      "{'A': 2517, 'G': 2489, 'C': 2550, 'T': 2444}\n"
     ]
    }
   ],
   "source": [
    "kmer_count(fastq,1) #count kmers of length 1"
   ]
  },
  {
   "cell_type": "markdown",
   "metadata": {},
   "source": [
    "Count the number of each pair of bases across all sequences in fastq"
   ]
  },
  {
   "cell_type": "code",
   "execution_count": 12,
   "metadata": {
    "collapsed": false
   },
   "outputs": [
    {
     "name": "stdout",
     "output_type": "stream",
     "text": [
      "{'GA': 633, 'TG': 628, 'TT': 583, 'TC': 615, 'CC': 630, 'CT': 636, 'AC': 665, 'CA': 638, 'AA': 632, 'GT': 627, 'AG': 627, 'GG': 581, 'AT': 574, 'GC': 620, 'CG': 623, 'TA': 588}\n"
     ]
    }
   ],
   "source": [
    "kmer_count(fastq,2) #count kmers of length 2"
   ]
  },
  {
   "cell_type": "markdown",
   "metadata": {},
   "source": [
    "Count the number of each pair of bases, without  assuming you know in advance the possible pairs (i.e. start with an empty dictionary). See above."
   ]
  },
  {
   "cell_type": "markdown",
   "metadata": {},
   "source": [
    "Alter the counting function to allow for counting kmers of any size. See above. Test with kmer length of 4 below."
   ]
  },
  {
   "cell_type": "code",
   "execution_count": 13,
   "metadata": {
    "collapsed": false
   },
   "outputs": [
    {
     "name": "stdout",
     "output_type": "stream",
     "text": [
      "{'ACAC': 39, 'TAGT': 38, 'GACT': 36, 'TGTA': 36, 'CTCC': 37, 'CCAG': 42, 'TGGA': 43, 'GAAG': 42, 'TGGG': 28, 'TCTA': 40, 'GAGC': 33, 'GGGC': 26, 'GTGT': 37, 'TGTC': 35, 'GACC': 45, 'GTCA': 31, 'CCCC': 32, 'TAAT': 42, 'GACG': 36, 'AACC': 54, 'TAGA': 33, 'TGGT': 44, 'CGCC': 41, 'AAGG': 31, 'GTTT': 33, 'GAGG': 39, 'TCAT': 34, 'GCGT': 31, 'AAAT': 37, 'GGAT': 32, 'GCTA': 29, 'AATT': 42, 'TTGC': 38, 'GCGA': 40, 'GACA': 43, 'CTTT': 31, 'GCAA': 33, 'CTTA': 46, 'CGAC': 35, 'ATAT': 28, 'CTTC': 27, 'TGCG': 42, 'TATA': 32, 'CAGT': 50, 'CTAA': 47, 'CGTC': 37, 'ATAC': 35, 'AGTA': 45, 'GAAC': 50, 'TTTC': 28, 'GGCG': 36, 'CCCG': 36, 'TCAA': 35, 'GGGG': 33, 'TAGG': 34, 'TAAG': 31, 'ATTG': 36, 'GTTG': 33, 'CCGA': 41, 'CTCG': 49, 'AAAC': 41, 'ACAA': 40, 'TCGT': 39, 'ATGA': 45, 'GCGG': 51, 'GTGC': 42, 'TCTC': 40, 'ATGG': 33, 'TCGG': 32, 'ATGT': 31, 'CGTT': 35, 'TAGC': 41, 'CGGA': 35, 'CAGC': 47, 'CGCT': 34, 'ACGG': 32, 'CACT': 49, 'AACA': 37, 'AATG': 34, 'TGAC': 51, 'CACG': 37, 'TACC': 32, 'GGAC': 40, 'GGCC': 36, 'GCAT': 30, 'CTGC': 39, 'GCCA': 45, 'ACGC': 38, 'CAAG': 35, 'TTAA': 39, 'TAAC': 38, 'TTGT': 26, 'GGTA': 33, 'ACAG': 47, 'GGCT': 35, 'AACT': 50, 'ATCC': 37, 'TCAC': 36, 'CCGC': 40, 'AGGA': 31, 'AATA': 35, 'CATC': 40, 'ATCA': 28, 'ACCT': 41, 'AAAA': 34, 'GTCC': 50, 'AAAG': 44, 'TTGG': 40, 'CACC': 32, 'GAGA': 37, 'TTAG': 31, 'GAGT': 41, 'CGAT': 47, 'TCGA': 41, 'TTAC': 38, 'ATTA': 30, 'CTGG': 41, 'GTAA': 31, 'GAAA': 44, 'CGAA': 45, 'ATCG': 31, 'TCGC': 42, 'ATAG': 38, 'CAAT': 32, 'CGGG': 43, 'GGTC': 34, 'CTGA': 43, 'TGCA': 36, 'AGTC': 47, 'GCCG': 28, 'CATA': 29, 'TACG': 39, 'CAGG': 38, 'CTTG': 24, 'TTAT': 30, 'GTTA': 32, 'TGAT': 33, 'CAAA': 35, 'TCCC': 39, 'GTAG': 47, 'AACG': 30, 'CCCT': 36, 'GCCT': 42, 'TCCA': 39, 'TCTG': 39, 'CCCA': 32, 'AATC': 29, 'GGGT': 33, 'ACCG': 50, 'AGAC': 35, 'CAAC': 42, 'CTGT': 52, 'CTCA': 44, 'GATC': 37, 'TCTT': 28, 'GTGG': 39, 'AGAT': 34, 'AAGT': 46, 'AGGT': 41, 'AAGA': 41, 'TTGA': 30, 'ATTC': 44, 'TGAA': 39, 'GTGA': 45, 'TTCG': 38, 'CGGC': 37, 'GCGC': 42, 'CCTC': 38, 'AGCG': 45, 'GCTC': 35, 'CTAT': 35, 'TGCT': 38, 'CCGG': 31, 'GCAG': 47, 'TTTG': 40, 'GCCC': 40, 'GGCA': 31, 'GTCT': 41, 'CATT': 42, 'ACGT': 29, 'TACA': 42, 'CCTA': 41, 'ACTA': 44, 'CATG': 38, 'AGAG': 33, 'CGCA': 47, 'AAGC': 34, 'ATAA': 38, 'TGCC': 35, 'CCAA': 35, 'CTAC': 43, 'ACTT': 32, 'ACGA': 44, 'CCAC': 50, 'TCCT': 49, 'AGCT': 29, 'AGAA': 43, 'GGGA': 40, 'CCAT': 39, 'CGAG': 39, 'ATCT': 42, 'GCAC': 41, 'GTAC': 36, 'TAAA': 43, 'ACAT': 45, 'TTCT': 31, 'GGAG': 38, 'ATGC': 31, 'CTAG': 30, 'TCCG': 41, 'ACTC': 49, 'AGTT': 37, 'TTTA': 32, 'GGTT': 34, 'GATG': 36, 'AGGC': 43, 'CGTA': 28, 'ACTG': 49, 'TGGC': 33, 'CACA': 48, 'CCTT': 35, 'TATC': 33, 'TTTT': 47, 'AGCC': 43, 'CGGT': 31, 'CAGA': 34, 'AGTG': 46, 'GCTG': 36, 'CGTG': 43, 'GTAT': 32, 'TTCC': 44, 'TGAG': 40, 'GAAT': 29, 'GATT': 32, 'GTTC': 47, 'GTCG': 35, 'CGCG': 39, 'GGAA': 39, 'ATTT': 36, 'ACCA': 49, 'TATG': 35, 'TACT': 40, 'TTCA': 34, 'TGTT': 39, 'GCTT': 37, 'AGCA': 38, 'CCTG': 52, 'AGGG': 28, 'ACCC': 24, 'GATA': 41, 'CTCT': 32, 'CCGT': 43, 'TATT': 28, 'TGTG': 33, 'TCAG': 32, 'GGTG': 44}\n"
     ]
    }
   ],
   "source": [
    "kmer_count(fastq,4) #count kmers of length 4"
   ]
  },
  {
   "cell_type": "code",
   "execution_count": null,
   "metadata": {
    "collapsed": true
   },
   "outputs": [],
   "source": []
  }
 ],
 "metadata": {
  "anaconda-cloud": {},
  "kernelspec": {
   "display_name": "Python [default]",
   "language": "python",
   "name": "python3"
  },
  "language_info": {
   "codemirror_mode": {
    "name": "ipython",
    "version": 3
   },
   "file_extension": ".py",
   "mimetype": "text/x-python",
   "name": "python",
   "nbconvert_exporter": "python",
   "pygments_lexer": "ipython3",
   "version": "3.5.2"
  }
 },
 "nbformat": 4,
 "nbformat_minor": 1
}
