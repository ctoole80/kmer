{
 "cells": [
  {
   "cell_type": "markdown",
   "metadata": {},
   "source": [
    "Define kmer_count function"
   ]
  },
  {
   "cell_type": "code",
   "execution_count": 7,
   "metadata": {
    "collapsed": true
   },
   "outputs": [],
   "source": [
    "def kmer_count(data, k):\n",
    "    \"\"\"Counts kmer of desired length (k) in fastq file (data). \n",
    "    Usage: kmer_count(data, k)\"\"\"\n",
    "    F={} #set up dict for holding total kmer count\n",
    "    for line_num,line in enumerate(data): #go through each line of list\n",
    "        if line_num % 4 == 1: #check if line is sequence\n",
    "            dna=line.rstrip()\n",
    "            for x in range(len(dna)+1-k): #slide along sequence\n",
    "                kmer=dna[x:x+k] #select kmer at x\n",
    "                F[kmer]=F.get(kmer,0)+1 #increment total kmer count\n",
    "    print(F)"
   ]
  },
  {
   "cell_type": "markdown",
   "metadata": {},
   "source": [
    "Open and Read file"
   ]
  },
  {
   "cell_type": "code",
   "execution_count": 8,
   "metadata": {
    "collapsed": true
   },
   "outputs": [],
   "source": [
    "filename ='sample.fastq'\n",
    "f=open(filename, 'r') #open file"
   ]
  },
  {
   "cell_type": "code",
   "execution_count": 9,
   "metadata": {
    "collapsed": true
   },
   "outputs": [],
   "source": [
    "fastq=f.readlines() #read file"
   ]
  },
  {
   "cell_type": "markdown",
   "metadata": {},
   "source": [
    "Count the number of each base across all sequences in fastq"
   ]
  },
  {
   "cell_type": "code",
   "execution_count": 10,
   "metadata": {
    "collapsed": false
   },
   "outputs": [
    {
     "name": "stdout",
     "output_type": "stream",
     "text": [
      "{'A': 2517, 'G': 2489, 'T': 2444, 'C': 2550}\n"
     ]
    }
   ],
   "source": [
    "kmer_count(fastq,1) #count kmers of length 1"
   ]
  },
  {
   "cell_type": "markdown",
   "metadata": {},
   "source": [
    "Count the number of each pair of bases across all sequences in fastq"
   ]
  },
  {
   "cell_type": "code",
   "execution_count": 11,
   "metadata": {
    "collapsed": false
   },
   "outputs": [
    {
     "name": "stdout",
     "output_type": "stream",
     "text": [
      "{'AT': 574, 'CC': 630, 'GC': 620, 'TC': 615, 'CA': 638, 'TA': 588, 'AG': 627, 'AA': 632, 'TG': 628, 'GT': 627, 'AC': 665, 'CG': 623, 'GG': 581, 'CT': 636, 'GA': 633, 'TT': 583}\n"
     ]
    }
   ],
   "source": [
    "kmer_count(fastq,2) #count kmers of length 2"
   ]
  },
  {
   "cell_type": "markdown",
   "metadata": {},
   "source": [
    "Count the number of each pair of bases, without  assuming you know in advance the possible pairs (i.e. start with an empty dictionary). See above."
   ]
  },
  {
   "cell_type": "markdown",
   "metadata": {},
   "source": [
    "Alter the counting function to allow for counting kmers of any size. See above. Test with kmer length of 4 below."
   ]
  },
  {
   "cell_type": "code",
   "execution_count": 12,
   "metadata": {
    "collapsed": false
   },
   "outputs": [
    {
     "name": "stdout",
     "output_type": "stream",
     "text": [
      "{'AATG': 34, 'ATTA': 30, 'CATT': 42, 'CCGA': 41, 'CAAG': 35, 'CCAG': 42, 'GGAA': 39, 'ACCT': 41, 'CGTC': 37, 'GCTG': 36, 'AAAC': 41, 'TTCG': 38, 'GAAC': 50, 'GGTA': 33, 'GCGT': 31, 'TCCG': 41, 'GTCG': 35, 'AACT': 50, 'GCGA': 40, 'GGTG': 44, 'ACTA': 44, 'ACTC': 49, 'GGCA': 31, 'TAAG': 31, 'ACTG': 49, 'TTAG': 31, 'CACC': 32, 'ATGT': 31, 'AGTC': 47, 'AATC': 29, 'CTGA': 43, 'AGAC': 35, 'ATGC': 31, 'GTAA': 31, 'GGTT': 34, 'GAAT': 29, 'ACCA': 49, 'GTCT': 41, 'CATA': 29, 'TCCA': 39, 'GCGC': 42, 'CTGG': 41, 'GACT': 36, 'GTAC': 36, 'CGGG': 43, 'TCGG': 32, 'TCTG': 39, 'TGGT': 44, 'GCCA': 45, 'CGCG': 39, 'TATC': 33, 'CCCA': 32, 'ATCA': 28, 'CAGA': 34, 'AAAG': 44, 'CACT': 49, 'ATCT': 42, 'CTGC': 39, 'GAGG': 39, 'GCCG': 28, 'AAGA': 41, 'GTAG': 47, 'CACG': 37, 'ATCC': 37, 'TGAT': 33, 'ATGA': 45, 'GGGC': 26, 'AAGC': 34, 'GCAC': 41, 'TCCT': 49, 'TCTA': 40, 'GTTT': 33, 'TGCC': 35, 'GGCT': 35, 'AGTA': 45, 'GGTC': 34, 'CGTG': 43, 'GAGC': 33, 'AGTG': 46, 'GGGG': 33, 'AGTT': 37, 'CGTT': 35, 'GCAT': 30, 'TGCT': 38, 'GAAG': 42, 'TGAA': 39, 'TATA': 32, 'CCTT': 35, 'ACGC': 38, 'TCTC': 40, 'GTTG': 33, 'TCAC': 36, 'ATAG': 38, 'GCTT': 37, 'GTGA': 45, 'ACTT': 32, 'CCCC': 32, 'AGAA': 43, 'GAAA': 44, 'GTGT': 37, 'ATGG': 33, 'TTGT': 26, 'AACA': 37, 'TGGC': 33, 'CAAT': 32, 'CATC': 40, 'TAGA': 33, 'ATTG': 36, 'TTCC': 44, 'AATT': 42, 'GGCG': 36, 'AAAA': 34, 'TTGG': 40, 'GCCT': 42, 'CTAC': 43, 'CTTT': 31, 'CCCG': 36, 'GGGT': 33, 'ACGT': 29, 'CGGA': 35, 'CGGC': 37, 'AACG': 30, 'AAGG': 31, 'ACCC': 24, 'GACA': 43, 'CAGT': 50, 'TCAG': 32, 'TACT': 40, 'ATTT': 36, 'GTTA': 32, 'CAGG': 38, 'TTCT': 31, 'CCTG': 52, 'CTCC': 37, 'CGCT': 34, 'TGTA': 36, 'CGAC': 35, 'TACG': 39, 'TGGA': 43, 'ACAT': 45, 'AGCG': 45, 'ATCG': 31, 'GCAG': 47, 'AGAT': 34, 'TTAA': 39, 'CCGT': 43, 'CAAC': 42, 'CTTA': 46, 'TCTT': 28, 'CTCG': 49, 'CTTG': 24, 'TTAT': 30, 'AGGA': 31, 'TCGT': 39, 'AGGT': 41, 'AACC': 54, 'GGAT': 32, 'GATG': 36, 'TGTC': 35, 'TCGA': 41, 'CTAA': 47, 'CACA': 48, 'GAGT': 41, 'CGAT': 47, 'TTGC': 38, 'CCCT': 36, 'TGAC': 51, 'CGAA': 45, 'TATT': 28, 'CTGT': 52, 'ACGG': 32, 'TGAG': 40, 'GCTA': 29, 'CTAT': 35, 'GGCC': 36, 'TAAT': 42, 'AGCA': 38, 'TCAT': 34, 'GACG': 36, 'GATT': 32, 'AAAT': 37, 'GCAA': 33, 'CTCA': 44, 'TAAA': 43, 'TAAC': 38, 'GCCC': 40, 'TCAA': 35, 'CCGG': 31, 'TTTA': 32, 'TATG': 35, 'TTGA': 30, 'GTCA': 31, 'ATTC': 44, 'TTTG': 40, 'ACAG': 47, 'ATAT': 28, 'AATA': 35, 'TCCC': 39, 'CTAG': 30, 'GTTC': 47, 'TGCG': 42, 'TTAC': 38, 'TTCA': 34, 'ACGA': 44, 'TGGG': 28, 'TACC': 32, 'CCGC': 40, 'AGAG': 33, 'TAGC': 41, 'CGAG': 39, 'GCGG': 51, 'CTCT': 32, 'AGCC': 43, 'GTGC': 42, 'GGAG': 38, 'TGTT': 39, 'TTTC': 28, 'CTTC': 27, 'CAGC': 47, 'GATC': 37, 'ATAC': 35, 'GCTC': 35, 'TAGT': 38, 'ACCG': 50, 'CGGT': 31, 'ACAA': 40, 'GTCC': 50, 'CGCA': 47, 'TACA': 42, 'GACC': 45, 'CGTA': 28, 'CCAC': 50, 'CAAA': 35, 'AGCT': 29, 'GTAT': 32, 'CATG': 38, 'ATAA': 38, 'GGGA': 40, 'GATA': 41, 'GAGA': 37, 'GGAC': 40, 'AAGT': 46, 'TCGC': 42, 'CCTA': 41, 'AGGC': 43, 'GTGG': 39, 'ACAC': 39, 'CCTC': 38, 'TGCA': 36, 'CGCC': 41, 'AGGG': 28, 'CCAA': 35, 'CCAT': 39, 'TTTT': 47, 'TAGG': 34, 'TGTG': 33}\n"
     ]
    }
   ],
   "source": [
    "kmer_count(fastq,4) #count kmers of length 4"
   ]
  }
 ],
 "metadata": {
  "anaconda-cloud": {},
  "kernelspec": {
   "display_name": "Python [default]",
   "language": "python",
   "name": "python3"
  },
  "language_info": {
   "codemirror_mode": {
    "name": "ipython",
    "version": 3
   },
   "file_extension": ".py",
   "mimetype": "text/x-python",
   "name": "python",
   "nbconvert_exporter": "python",
   "pygments_lexer": "ipython3",
   "version": "3.5.2"
  }
 },
 "nbformat": 4,
 "nbformat_minor": 1
}
